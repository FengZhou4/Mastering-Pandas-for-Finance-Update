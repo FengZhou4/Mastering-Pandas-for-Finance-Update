{
 "cells": [
  {
   "cell_type": "markdown",
   "id": "712474f2",
   "metadata": {},
   "source": [
    "# Reshaping, Reorganizing and Aggregation"
   ]
  },
  {
   "cell_type": "code",
   "execution_count": 1,
   "id": "98e0fdac",
   "metadata": {
    "collapsed": false
   },
   "outputs": [],
   "source": [
    "# import pandas and NumPy\n",
    "import pandas as pd\n",
    "import numpy as np\n",
    "\n",
    "# date and time functions\n",
    "import datetime\n",
    "\n",
    "# bring in matplotlib and draw inline\n",
    "import matplotlib.pyplot as plt\n",
    "%matplotlib inline\n",
    "\n",
    "# Set some Pandas options\n",
    "pd.set_option('display.notebook_repr_html', False)\n",
    "pd.set_option('display.max_columns', 15)\n",
    "pd.set_option('display.max_rows', 8)\n",
    "# pd.set_option('precision', 3)"
   ]
  },
  {
   "cell_type": "markdown",
   "id": "643450c2",
   "metadata": {},
   "source": [
    "## Loading historical stock data from the web or from files"
   ]
  },
  {
   "cell_type": "markdown",
   "id": "91b709de",
   "metadata": {},
   "source": [
    "### From Web"
   ]
  },
  {
   "cell_type": "code",
   "execution_count": 2,
   "id": "7abc018e",
   "metadata": {},
   "outputs": [
    {
     "name": "stdout",
     "output_type": "stream",
     "text": [
      "6.29.4\n"
     ]
    }
   ],
   "source": [
    "\n",
    "import ipykernel\n",
    "print(ipykernel.__version__)"
   ]
  },
  {
   "cell_type": "code",
   "execution_count": 3,
   "id": "15a88673",
   "metadata": {
    "collapsed": false
   },
   "outputs": [
    {
     "ename": "AttributeError",
     "evalue": "'NoneType' object has no attribute 'group'",
     "output_type": "error",
     "traceback": [
      "\u001b[1;31m---------------------------------------------------------------------------\u001b[0m",
      "\u001b[1;31mAttributeError\u001b[0m                            Traceback (most recent call last)",
      "Cell \u001b[1;32mIn[3], line 10\u001b[0m\n\u001b[0;32m      7\u001b[0m end \u001b[38;5;241m=\u001b[39m datetime\u001b[38;5;241m.\u001b[39mdatetime(\u001b[38;5;241m2012\u001b[39m, \u001b[38;5;241m12\u001b[39m, \u001b[38;5;241m30\u001b[39m)\n\u001b[0;32m      9\u001b[0m \u001b[38;5;66;03m# load the data\u001b[39;00m\n\u001b[1;32m---> 10\u001b[0m msft \u001b[38;5;241m=\u001b[39m \u001b[43mweb\u001b[49m\u001b[38;5;241;43m.\u001b[39;49m\u001b[43mDataReader\u001b[49m\u001b[43m(\u001b[49m\u001b[38;5;124;43m\"\u001b[39;49m\u001b[38;5;124;43mMSFT\u001b[39;49m\u001b[38;5;124;43m\"\u001b[39;49m\u001b[43m,\u001b[49m\u001b[43m \u001b[49m\u001b[38;5;124;43m'\u001b[39;49m\u001b[38;5;124;43myahoo\u001b[39;49m\u001b[38;5;124;43m'\u001b[39;49m\u001b[43m,\u001b[49m\u001b[43m \u001b[49m\u001b[43mstart\u001b[49m\u001b[43m,\u001b[49m\u001b[43m \u001b[49m\u001b[43mend\u001b[49m\u001b[43m)\u001b[49m\n\u001b[0;32m     11\u001b[0m aapl \u001b[38;5;241m=\u001b[39m web\u001b[38;5;241m.\u001b[39mDataReader(\u001b[38;5;124m\"\u001b[39m\u001b[38;5;124mAAPL\u001b[39m\u001b[38;5;124m\"\u001b[39m, \u001b[38;5;124m'\u001b[39m\u001b[38;5;124myahoo\u001b[39m\u001b[38;5;124m'\u001b[39m, start, end)\n\u001b[0;32m     13\u001b[0m \u001b[38;5;66;03m# these save the data to file - optional for the examples\u001b[39;00m\n\u001b[0;32m     14\u001b[0m \u001b[38;5;66;03m#msft.to_csv(\"msft.csv\")\u001b[39;00m\n\u001b[0;32m     15\u001b[0m \u001b[38;5;66;03m#aapl.to_csv(\"aapl.csv\")\u001b[39;00m\n",
      "File \u001b[1;32md:\\miniforge3\\envs\\finrl\\lib\\site-packages\\pandas\\util\\_decorators.py:213\u001b[0m, in \u001b[0;36mdeprecate_kwarg.<locals>._deprecate_kwarg.<locals>.wrapper\u001b[1;34m(*args, **kwargs)\u001b[0m\n\u001b[0;32m    211\u001b[0m         \u001b[38;5;28;01mraise\u001b[39;00m \u001b[38;5;167;01mTypeError\u001b[39;00m(msg)\n\u001b[0;32m    212\u001b[0m     kwargs[new_arg_name] \u001b[38;5;241m=\u001b[39m new_arg_value\n\u001b[1;32m--> 213\u001b[0m \u001b[38;5;28;01mreturn\u001b[39;00m func(\u001b[38;5;241m*\u001b[39margs, \u001b[38;5;241m*\u001b[39m\u001b[38;5;241m*\u001b[39mkwargs)\n",
      "File \u001b[1;32md:\\miniforge3\\envs\\finrl\\lib\\site-packages\\pandas_datareader\\data.py:379\u001b[0m, in \u001b[0;36mDataReader\u001b[1;34m(name, data_source, start, end, retry_count, pause, session, api_key)\u001b[0m\n\u001b[0;32m    367\u001b[0m     \u001b[38;5;28;01mraise\u001b[39;00m \u001b[38;5;167;01mNotImplementedError\u001b[39;00m(msg)\n\u001b[0;32m    369\u001b[0m \u001b[38;5;28;01mif\u001b[39;00m data_source \u001b[38;5;241m==\u001b[39m \u001b[38;5;124m\"\u001b[39m\u001b[38;5;124myahoo\u001b[39m\u001b[38;5;124m\"\u001b[39m:\n\u001b[0;32m    370\u001b[0m     \u001b[38;5;28;01mreturn\u001b[39;00m \u001b[43mYahooDailyReader\u001b[49m\u001b[43m(\u001b[49m\n\u001b[0;32m    371\u001b[0m \u001b[43m        \u001b[49m\u001b[43msymbols\u001b[49m\u001b[38;5;241;43m=\u001b[39;49m\u001b[43mname\u001b[49m\u001b[43m,\u001b[49m\n\u001b[0;32m    372\u001b[0m \u001b[43m        \u001b[49m\u001b[43mstart\u001b[49m\u001b[38;5;241;43m=\u001b[39;49m\u001b[43mstart\u001b[49m\u001b[43m,\u001b[49m\n\u001b[0;32m    373\u001b[0m \u001b[43m        \u001b[49m\u001b[43mend\u001b[49m\u001b[38;5;241;43m=\u001b[39;49m\u001b[43mend\u001b[49m\u001b[43m,\u001b[49m\n\u001b[0;32m    374\u001b[0m \u001b[43m        \u001b[49m\u001b[43madjust_price\u001b[49m\u001b[38;5;241;43m=\u001b[39;49m\u001b[38;5;28;43;01mFalse\u001b[39;49;00m\u001b[43m,\u001b[49m\n\u001b[0;32m    375\u001b[0m \u001b[43m        \u001b[49m\u001b[43mchunksize\u001b[49m\u001b[38;5;241;43m=\u001b[39;49m\u001b[38;5;241;43m25\u001b[39;49m\u001b[43m,\u001b[49m\n\u001b[0;32m    376\u001b[0m \u001b[43m        \u001b[49m\u001b[43mretry_count\u001b[49m\u001b[38;5;241;43m=\u001b[39;49m\u001b[43mretry_count\u001b[49m\u001b[43m,\u001b[49m\n\u001b[0;32m    377\u001b[0m \u001b[43m        \u001b[49m\u001b[43mpause\u001b[49m\u001b[38;5;241;43m=\u001b[39;49m\u001b[43mpause\u001b[49m\u001b[43m,\u001b[49m\n\u001b[0;32m    378\u001b[0m \u001b[43m        \u001b[49m\u001b[43msession\u001b[49m\u001b[38;5;241;43m=\u001b[39;49m\u001b[43msession\u001b[49m\u001b[43m,\u001b[49m\n\u001b[1;32m--> 379\u001b[0m \u001b[43m    \u001b[49m\u001b[43m)\u001b[49m\u001b[38;5;241;43m.\u001b[39;49m\u001b[43mread\u001b[49m\u001b[43m(\u001b[49m\u001b[43m)\u001b[49m\n\u001b[0;32m    381\u001b[0m \u001b[38;5;28;01melif\u001b[39;00m data_source \u001b[38;5;241m==\u001b[39m \u001b[38;5;124m\"\u001b[39m\u001b[38;5;124miex\u001b[39m\u001b[38;5;124m\"\u001b[39m:\n\u001b[0;32m    382\u001b[0m     \u001b[38;5;28;01mreturn\u001b[39;00m IEXDailyReader(\n\u001b[0;32m    383\u001b[0m         symbols\u001b[38;5;241m=\u001b[39mname,\n\u001b[0;32m    384\u001b[0m         start\u001b[38;5;241m=\u001b[39mstart,\n\u001b[1;32m   (...)\u001b[0m\n\u001b[0;32m    390\u001b[0m         session\u001b[38;5;241m=\u001b[39msession,\n\u001b[0;32m    391\u001b[0m     )\u001b[38;5;241m.\u001b[39mread()\n",
      "File \u001b[1;32md:\\miniforge3\\envs\\finrl\\lib\\site-packages\\pandas_datareader\\base.py:253\u001b[0m, in \u001b[0;36m_DailyBaseReader.read\u001b[1;34m(self)\u001b[0m\n\u001b[0;32m    251\u001b[0m \u001b[38;5;66;03m# If a single symbol, (e.g., 'GOOG')\u001b[39;00m\n\u001b[0;32m    252\u001b[0m \u001b[38;5;28;01mif\u001b[39;00m \u001b[38;5;28misinstance\u001b[39m(\u001b[38;5;28mself\u001b[39m\u001b[38;5;241m.\u001b[39msymbols, (string_types, \u001b[38;5;28mint\u001b[39m)):\n\u001b[1;32m--> 253\u001b[0m     df \u001b[38;5;241m=\u001b[39m \u001b[38;5;28;43mself\u001b[39;49m\u001b[38;5;241;43m.\u001b[39;49m\u001b[43m_read_one_data\u001b[49m\u001b[43m(\u001b[49m\u001b[38;5;28;43mself\u001b[39;49m\u001b[38;5;241;43m.\u001b[39;49m\u001b[43murl\u001b[49m\u001b[43m,\u001b[49m\u001b[43m \u001b[49m\u001b[43mparams\u001b[49m\u001b[38;5;241;43m=\u001b[39;49m\u001b[38;5;28;43mself\u001b[39;49m\u001b[38;5;241;43m.\u001b[39;49m\u001b[43m_get_params\u001b[49m\u001b[43m(\u001b[49m\u001b[38;5;28;43mself\u001b[39;49m\u001b[38;5;241;43m.\u001b[39;49m\u001b[43msymbols\u001b[49m\u001b[43m)\u001b[49m\u001b[43m)\u001b[49m\n\u001b[0;32m    254\u001b[0m \u001b[38;5;66;03m# Or multiple symbols, (e.g., ['GOOG', 'AAPL', 'MSFT'])\u001b[39;00m\n\u001b[0;32m    255\u001b[0m \u001b[38;5;28;01melif\u001b[39;00m \u001b[38;5;28misinstance\u001b[39m(\u001b[38;5;28mself\u001b[39m\u001b[38;5;241m.\u001b[39msymbols, DataFrame):\n",
      "File \u001b[1;32md:\\miniforge3\\envs\\finrl\\lib\\site-packages\\pandas_datareader\\yahoo\\daily.py:152\u001b[0m, in \u001b[0;36mYahooDailyReader._read_one_data\u001b[1;34m(self, url, params)\u001b[0m\n\u001b[0;32m    150\u001b[0m ptrn \u001b[38;5;241m=\u001b[39m \u001b[38;5;124mr\u001b[39m\u001b[38;5;124m\"\u001b[39m\u001b[38;5;124mroot\u001b[39m\u001b[38;5;124m\\\u001b[39m\u001b[38;5;124m.App\u001b[39m\u001b[38;5;124m\\\u001b[39m\u001b[38;5;124m.main = (.*?);\u001b[39m\u001b[38;5;124m\\\u001b[39m\u001b[38;5;124mn}\u001b[39m\u001b[38;5;124m\\\u001b[39m\u001b[38;5;124m(this\u001b[39m\u001b[38;5;124m\\\u001b[39m\u001b[38;5;124m)\u001b[39m\u001b[38;5;124m\\\u001b[39m\u001b[38;5;124m);\u001b[39m\u001b[38;5;124m\"\u001b[39m\n\u001b[0;32m    151\u001b[0m \u001b[38;5;28;01mtry\u001b[39;00m:\n\u001b[1;32m--> 152\u001b[0m     j \u001b[38;5;241m=\u001b[39m json\u001b[38;5;241m.\u001b[39mloads(\u001b[43mre\u001b[49m\u001b[38;5;241;43m.\u001b[39;49m\u001b[43msearch\u001b[49m\u001b[43m(\u001b[49m\u001b[43mptrn\u001b[49m\u001b[43m,\u001b[49m\u001b[43m \u001b[49m\u001b[43mresp\u001b[49m\u001b[38;5;241;43m.\u001b[39;49m\u001b[43mtext\u001b[49m\u001b[43m,\u001b[49m\u001b[43m \u001b[49m\u001b[43mre\u001b[49m\u001b[38;5;241;43m.\u001b[39;49m\u001b[43mDOTALL\u001b[49m\u001b[43m)\u001b[49m\u001b[38;5;241;43m.\u001b[39;49m\u001b[43mgroup\u001b[49m(\u001b[38;5;241m1\u001b[39m))\n\u001b[0;32m    153\u001b[0m     data \u001b[38;5;241m=\u001b[39m j[\u001b[38;5;124m\"\u001b[39m\u001b[38;5;124mcontext\u001b[39m\u001b[38;5;124m\"\u001b[39m][\u001b[38;5;124m\"\u001b[39m\u001b[38;5;124mdispatcher\u001b[39m\u001b[38;5;124m\"\u001b[39m][\u001b[38;5;124m\"\u001b[39m\u001b[38;5;124mstores\u001b[39m\u001b[38;5;124m\"\u001b[39m][\u001b[38;5;124m\"\u001b[39m\u001b[38;5;124mHistoricalPriceStore\u001b[39m\u001b[38;5;124m\"\u001b[39m]\n\u001b[0;32m    154\u001b[0m \u001b[38;5;28;01mexcept\u001b[39;00m \u001b[38;5;167;01mKeyError\u001b[39;00m:\n",
      "\u001b[1;31mAttributeError\u001b[0m: 'NoneType' object has no attribute 'group'"
     ]
    }
   ],
   "source": [
    "# for the DataReader\n",
    "# import pandas.io.data as web\n",
    "import pandas_datareader.data as web\n",
    "\n",
    "# start end end dates\n",
    "start = datetime.datetime(2012, 1, 1)\n",
    "end = datetime.datetime(2012, 12, 30)\n",
    "\n",
    "# load the data\n",
    "msft = web.DataReader(\"MSFT\", 'yahoo', start, end)\n",
    "aapl = web.DataReader(\"AAPL\", 'yahoo', start, end)\n",
    "\n",
    "# these save the data to file - optional for the examples\n",
    "#msft.to_csv(\"msft.csv\")\n",
    "#aapl.to_csv(\"aapl.csv\")"
   ]
  },
  {
   "cell_type": "markdown",
   "id": "7e330e36",
   "metadata": {},
   "source": [
    "### From file"
   ]
  },
  {
   "cell_type": "code",
   "execution_count": 3,
   "id": "64ac6ace",
   "metadata": {
    "collapsed": false
   },
   "outputs": [],
   "source": [
    "# read the Microsoft and Apple data from file\n",
    "msft = pd.read_csv(\"msft.csv\", index_col=0, parse_dates=True)\n",
    "aapl = pd.read_csv(\"aapl.csv\", index_col=0, parse_dates=True)"
   ]
  },
  {
   "cell_type": "markdown",
   "id": "c9fc2869",
   "metadata": {},
   "source": [
    "### Organizing the data for the examples"
   ]
  },
  {
   "cell_type": "code",
   "execution_count": 4,
   "id": "18cf6981",
   "metadata": {
    "collapsed": false
   },
   "outputs": [
    {
     "data": {
      "text/plain": [
       "             Open   High    Low  Close    Volume  Adj Close\n",
       "Date                                                       \n",
       "2012-01-03  26.55  26.96  26.39  26.77  64731500   24.42183\n",
       "2012-01-04  26.82  27.47  26.78  27.40  80516100   24.99657\n",
       "2012-01-05  27.38  27.73  27.29  27.68  56081400   25.25201"
      ]
     },
     "execution_count": 4,
     "metadata": {},
     "output_type": "execute_result"
    }
   ],
   "source": [
    "msft[:3]"
   ]
  },
  {
   "cell_type": "code",
   "execution_count": 5,
   "id": "d4cbf792",
   "metadata": {
    "collapsed": false
   },
   "outputs": [
    {
     "data": {
      "text/plain": [
       "                 Open       High        Low      Close    Volume  Adj Close\n",
       "Date                                                                       \n",
       "2012-01-03  409.39996  412.50000  409.00000  411.22998  75555200   55.41362\n",
       "2012-01-04  410.00000  414.68002  409.28000  413.44000  65005500   55.71143\n",
       "2012-01-05  414.94998  418.55002  412.67004  418.03000  67817400   56.32993"
      ]
     },
     "execution_count": 5,
     "metadata": {},
     "output_type": "execute_result"
    }
   ],
   "source": [
    "aapl[:3]"
   ]
  },
  {
   "cell_type": "markdown",
   "id": "83894b26",
   "metadata": {},
   "source": [
    "# Reorganizing and reshaping data"
   ]
  },
  {
   "cell_type": "markdown",
   "id": "16eef7f1",
   "metadata": {},
   "source": [
    "## Concatenating data in Multiple DataFrame objects"
   ]
  },
  {
   "cell_type": "code",
   "execution_count": 13,
   "id": "3c1dd901",
   "metadata": {
    "collapsed": false
   },
   "outputs": [
    {
     "data": {
      "text/plain": [
       "            Adj Close\n",
       "Date                 \n",
       "2012-01-03   24.42183\n",
       "2012-01-04   24.99657\n",
       "2012-01-05   25.25201"
      ]
     },
     "execution_count": 13,
     "metadata": {},
     "output_type": "execute_result"
    }
   ],
   "source": [
    "# get MSFT adjusted close data for Jan and Feb 2012\n",
    "msftA01 = msft['2012-01-01':'2012-01-31'][['Adj Close']]\n",
    "msftA02 = msft['2012-02-01':'2012-02-29'][['Adj Close']]\n",
    "msftA01[:3]"
   ]
  },
  {
   "cell_type": "code",
   "execution_count": 14,
   "id": "4e561dd3",
   "metadata": {
    "collapsed": false
   },
   "outputs": [
    {
     "data": {
      "text/plain": [
       "            Adj Close\n",
       "Date                 \n",
       "2012-02-01   27.26815\n",
       "2012-02-02   27.32289\n",
       "2012-02-03   27.58745"
      ]
     },
     "execution_count": 14,
     "metadata": {},
     "output_type": "execute_result"
    }
   ],
   "source": [
    "msftA02[:3]"
   ]
  },
  {
   "cell_type": "code",
   "execution_count": 15,
   "id": "b4081240",
   "metadata": {
    "collapsed": false
   },
   "outputs": [
    {
     "data": {
      "text/plain": [
       "            Adj Close\n",
       "Date                 \n",
       "2012-01-03   24.42183\n",
       "2012-01-04   24.99657\n",
       "2012-01-05   25.25201\n",
       "2012-02-01   27.26815\n",
       "2012-02-02   27.32289\n",
       "2012-02-03   27.58745"
      ]
     },
     "execution_count": 15,
     "metadata": {},
     "output_type": "execute_result"
    }
   ],
   "source": [
    "# combine the first three rows of each of msftA01 and msftA02\n",
    "pd.concat([msftA01.head(3), msftA02.head(3)])"
   ]
  },
  {
   "cell_type": "code",
   "execution_count": 16,
   "id": "d0140cb7",
   "metadata": {
    "collapsed": false
   },
   "outputs": [
    {
     "data": {
      "text/plain": [
       "            Adj Close\n",
       "Date                 \n",
       "2012-01-03   24.42183\n",
       "2012-01-04   24.99657\n",
       "2012-01-05   25.25201\n",
       "2012-01-03   55.41362\n",
       "2012-01-04   55.71143\n",
       "2012-01-05   56.32993"
      ]
     },
     "execution_count": 16,
     "metadata": {},
     "output_type": "execute_result"
    }
   ],
   "source": [
    "# Extract only the Jan 2012 AAPL values.  \n",
    "aaplA01 = aapl['2012-01-01':'2012-01-31'][['Adj Close']]\n",
    "# now concat the AAPL and MSFT Jan 2012 data\n",
    "# there will be duplicate index labels\n",
    "withDups = pd.concat([msftA01[:3], aaplA01[:3]])\n",
    "withDups"
   ]
  },
  {
   "cell_type": "code",
   "execution_count": 18,
   "id": "ad83622c",
   "metadata": {
    "collapsed": false
   },
   "outputs": [
    {
     "data": {
      "text/plain": [
       "            Adj Close\n",
       "Date                 \n",
       "2012-01-03   24.42183\n",
       "2012-01-03   55.41362"
      ]
     },
     "execution_count": 18,
     "metadata": {},
     "output_type": "execute_result"
    }
   ],
   "source": [
    "# show the two records for data of 2012-01-03\n",
    "withDups.loc['2012-01-03']"
   ]
  },
  {
   "cell_type": "code",
   "execution_count": 19,
   "id": "882f0a01",
   "metadata": {
    "collapsed": false
   },
   "outputs": [
    {
     "data": {
      "text/plain": [
       "                 Adj Close\n",
       "     Date                 \n",
       "MSFT 2012-01-03   24.42183\n",
       "     2012-01-04   24.99657\n",
       "     2012-01-05   25.25201\n",
       "AAPL 2012-01-03   55.41362\n",
       "     2012-01-04   55.71143\n",
       "     2012-01-05   56.32993"
      ]
     },
     "execution_count": 19,
     "metadata": {},
     "output_type": "execute_result"
    }
   ],
   "source": [
    "# demonstrate concat with a specification of the \n",
    "# stock tickets being part of the index\n",
    "# this help disambiguate the duplicate dates using\n",
    "# a hierarchal index\n",
    "closes = pd.concat([msftA01[:3], aaplA01[:3]], \n",
    "                    keys=['MSFT', 'AAPL'])\n",
    "closes"
   ]
  },
  {
   "cell_type": "code",
   "execution_count": 24,
   "id": "07942d3d",
   "metadata": {
    "collapsed": false
   },
   "outputs": [
    {
     "data": {
      "text/plain": [
       "            Adj Close\n",
       "Date                 \n",
       "2012-01-03   24.42183\n",
       "2012-01-04   24.99657\n",
       "2012-01-05   25.25201"
      ]
     },
     "execution_count": 24,
     "metadata": {},
     "output_type": "execute_result"
    }
   ],
   "source": [
    "# extract just MSFT values using .ix\n",
    "closes.loc['MSFT'][:3]"
   ]
  },
  {
   "cell_type": "code",
   "execution_count": 29,
   "id": "44e1e3aa",
   "metadata": {},
   "outputs": [
    {
     "data": {
      "text/plain": [
       "[24.99657]"
      ]
     },
     "execution_count": 29,
     "metadata": {},
     "output_type": "execute_result"
    }
   ],
   "source": [
    "closes.loc['MSFT'].loc['2012-01-04'][['Adj Close']].tolist()"
   ]
  },
  {
   "cell_type": "code",
   "execution_count": 30,
   "id": "a25cff62",
   "metadata": {
    "collapsed": false
   },
   "outputs": [
    {
     "data": {
      "text/plain": [
       "            Adj Close     Volume\n",
       "Date                            \n",
       "2012-01-03   24.42183   64731500\n",
       "2012-01-04   24.99657   80516100\n",
       "2012-01-05   25.25201   56081400\n",
       "2012-01-06   25.64429   99455500\n",
       "...               ...        ...\n",
       "2012-12-24   70.71585   43938300\n",
       "2012-12-26   69.74111   75609100\n",
       "2012-12-27   70.02116  113780100\n",
       "2012-12-28   69.27753   88569600\n",
       "\n",
       "[498 rows x 2 columns]"
      ]
     },
     "execution_count": 30,
     "metadata": {},
     "output_type": "execute_result"
    }
   ],
   "source": [
    "# demonstrate concatenation using two DataFrame's\n",
    "# that each have two columns.  pandas will align the\n",
    "# data in columns by the column names (labels)\n",
    "msftAV = msft[['Adj Close', 'Volume']]\n",
    "aaplAV = aapl[['Adj Close', 'Volume']]\n",
    "pd.concat([msftAV, aaplAV])"
   ]
  },
  {
   "cell_type": "code",
   "execution_count": 31,
   "id": "9ecaceed",
   "metadata": {
    "collapsed": false
   },
   "outputs": [
    {
     "data": {
      "text/plain": [
       "            Adj Close      Volume\n",
       "Date                             \n",
       "2012-01-03   24.42183  64731500.0\n",
       "2012-01-04   24.99657  80516100.0\n",
       "2012-01-05   25.25201  56081400.0\n",
       "2012-01-06   25.64429  99455500.0\n",
       "...               ...         ...\n",
       "2012-12-24   70.71585         NaN\n",
       "2012-12-26   69.74111         NaN\n",
       "2012-12-27   70.02116         NaN\n",
       "2012-12-28   69.27753         NaN\n",
       "\n",
       "[498 rows x 2 columns]"
      ]
     },
     "execution_count": 31,
     "metadata": {},
     "output_type": "execute_result"
    }
   ],
   "source": [
    "# demonstrate concatenation with DataFrame objects\n",
    "# that do not have the same set of columns\n",
    "# this demonstrates pandas filling in NaN values\n",
    "aaplA = aapl[['Adj Close']]\n",
    "pd.concat([msftAV, aaplA])"
   ]
  },
  {
   "cell_type": "code",
   "execution_count": 32,
   "id": "4a18e677",
   "metadata": {
    "collapsed": false
   },
   "outputs": [
    {
     "data": {
      "text/plain": [
       "            Adj Close\n",
       "Date                 \n",
       "2012-01-03   24.42183\n",
       "2012-01-04   24.99657\n",
       "2012-01-05   25.25201\n",
       "2012-01-06   25.64429\n",
       "...               ...\n",
       "2012-12-24   70.71585\n",
       "2012-12-26   69.74111\n",
       "2012-12-27   70.02116\n",
       "2012-12-28   69.27753\n",
       "\n",
       "[498 rows x 1 columns]"
      ]
     },
     "execution_count": 32,
     "metadata": {},
     "output_type": "execute_result"
    }
   ],
   "source": [
    "# perform an inner join on the DataFrame's\n",
    "# since aaplA does not have a Volume column, pandas\n",
    "# will not include that column in the result\n",
    "pd.concat([msftAV, aaplA], join='inner')"
   ]
  },
  {
   "cell_type": "code",
   "execution_count": 33,
   "id": "08ba62de",
   "metadata": {
    "collapsed": false
   },
   "outputs": [
    {
     "data": {
      "text/plain": [
       "            Adj Close  Adj Close\n",
       "Date                            \n",
       "2012-01-03   24.42183   55.41362\n",
       "2012-01-04   24.99657   55.71143\n",
       "2012-01-05   25.25201   56.32993"
      ]
     },
     "execution_count": 33,
     "metadata": {},
     "output_type": "execute_result"
    }
   ],
   "source": [
    "# concat along the rows, causing duplicate columns to\n",
    "# be created in the result\n",
    "msftA = msft[['Adj Close']]\n",
    "closes = pd.concat([msftA, aaplA], axis=1)\n",
    "closes[:3]"
   ]
  },
  {
   "cell_type": "code",
   "execution_count": 34,
   "id": "f4f39e56",
   "metadata": {
    "collapsed": false
   },
   "outputs": [
    {
     "data": {
      "text/plain": [
       "                MSFT                AAPL            \n",
       "           Adj Close    Volume Adj Close      Volume\n",
       "Date                                                \n",
       "2012-01-03  24.42183  64731500  55.41362  75555200.0\n",
       "2012-01-04  24.99657  80516100  55.71143  65005500.0\n",
       "2012-01-05  25.25201  56081400  56.32993  67817400.0\n",
       "2012-01-06  25.64429  99455500       NaN         NaN\n",
       "2012-01-09  25.30675  59706800       NaN         NaN"
      ]
     },
     "execution_count": 34,
     "metadata": {},
     "output_type": "execute_result"
    }
   ],
   "source": [
    "# concat along rows using two DataFrame objects with\n",
    "# different number of rows. This demonstrates how\n",
    "# NaN values will be filled in those rows for AAPL\n",
    "# which only hase three rows as compared to 5 for MSFT\n",
    "pd.concat([msftAV[:5], aaplAV[:3]], axis=1,\n",
    "          keys=['MSFT', 'AAPL'])"
   ]
  },
  {
   "cell_type": "code",
   "execution_count": 36,
   "id": "a0f9209b",
   "metadata": {
    "collapsed": false
   },
   "outputs": [
    {
     "data": {
      "text/plain": [
       "                MSFT      AAPL\n",
       "           Adj Close Adj Close\n",
       "Date                          \n",
       "2012-01-03  24.42183  55.41362\n",
       "2012-01-04  24.99657  55.71143\n",
       "2012-01-05  25.25201  56.32993"
      ]
     },
     "execution_count": 36,
     "metadata": {},
     "output_type": "execute_result"
    }
   ],
   "source": [
    "# inner join can also be used along this axis\n",
    "# this will not include rows with index labels that do\n",
    "# not exist in both DataFrame objects\n",
    "pd.concat([msftA[:5], aaplA[:3]], axis=1,\n",
    "          join='inner', keys=['MSFT', 'AAPL'])"
   ]
  },
  {
   "cell_type": "code",
   "execution_count": 37,
   "id": "15450f21",
   "metadata": {
    "collapsed": false
   },
   "outputs": [
    {
     "data": {
      "text/plain": [
       "   Adj Close\n",
       "0   24.42183\n",
       "1   24.99657\n",
       "2   25.25201\n",
       "3   55.41362\n",
       "4   55.71143\n",
       "5   56.32993"
      ]
     },
     "execution_count": 37,
     "metadata": {},
     "output_type": "execute_result"
    }
   ],
   "source": [
    "# ignore indexes and just concatenate the data and\n",
    "# have the result have a default integer index\n",
    "pd.concat([msftA[:3], aaplA[:3]], ignore_index=True)"
   ]
  },
  {
   "cell_type": "markdown",
   "id": "51560b0e",
   "metadata": {},
   "source": [
    "## Merging DataFrame objects"
   ]
  },
  {
   "cell_type": "code",
   "execution_count": 43,
   "id": "6883f3b1",
   "metadata": {
    "collapsed": false
   },
   "outputs": [
    {
     "data": {
      "text/plain": [
       "          Date  Adj Close\n",
       "0   2012-01-03   24.42183\n",
       "1   2012-01-04   24.99657\n",
       "2   2012-01-05   25.25201\n",
       "3   2012-01-06   25.64429\n",
       "..         ...        ...\n",
       "245 2012-12-24   25.38455\n",
       "246 2012-12-26   25.19693\n",
       "247 2012-12-27   25.29074\n",
       "248 2012-12-28   24.90612\n",
       "\n",
       "[249 rows x 2 columns]"
      ]
     },
     "execution_count": 43,
     "metadata": {},
     "output_type": "execute_result"
    }
   ],
   "source": [
    "# we will merge these two DataFrame objects, \n",
    "# so lets peek at the data to remind ourselves\n",
    "# of what they contain\n",
    "msftAR = msftA.reset_index()\n",
    "msftVR = msft[['Volume']].reset_index()\n",
    "msftAR"
   ]
  },
  {
   "cell_type": "code",
   "execution_count": 44,
   "id": "962e2024",
   "metadata": {},
   "outputs": [
    {
     "data": {
      "text/plain": [
       "          Date    Volume\n",
       "0   2012-01-03  64731500\n",
       "1   2012-01-04  80516100\n",
       "2   2012-01-05  56081400\n",
       "3   2012-01-06  99455500\n",
       "..         ...       ...\n",
       "245 2012-12-24  20842400\n",
       "246 2012-12-26  31631100\n",
       "247 2012-12-27  39394000\n",
       "248 2012-12-28  28239900\n",
       "\n",
       "[249 rows x 2 columns]"
      ]
     },
     "execution_count": 44,
     "metadata": {},
     "output_type": "execute_result"
    }
   ],
   "source": [
    "msftVR"
   ]
  },
  {
   "cell_type": "code",
   "execution_count": 39,
   "id": "d947e69f",
   "metadata": {
    "collapsed": false
   },
   "outputs": [
    {
     "data": {
      "text/plain": [
       "        Date    Volume\n",
       "0 2012-01-03  64731500\n",
       "1 2012-01-04  80516100\n",
       "2 2012-01-05  56081400"
      ]
     },
     "execution_count": 39,
     "metadata": {},
     "output_type": "execute_result"
    }
   ],
   "source": [
    "msftVR[:3]"
   ]
  },
  {
   "cell_type": "code",
   "execution_count": 45,
   "id": "980c0c9a",
   "metadata": {
    "collapsed": false
   },
   "outputs": [
    {
     "data": {
      "text/plain": [
       "        Date  Adj Close    Volume\n",
       "0 2012-01-03   24.42183  64731500\n",
       "1 2012-01-04   24.99657  80516100\n",
       "2 2012-01-05   25.25201  56081400\n",
       "3 2012-01-06   25.64429  99455500\n",
       "4 2012-01-09   25.30675  59706800"
      ]
     },
     "execution_count": 45,
     "metadata": {},
     "output_type": "execute_result"
    }
   ],
   "source": [
    "# merge the two.  pandas finds the columns in common,\n",
    "# in this case Date, and merges on that column and adds\n",
    "# a column for all the other columns in both DataFrame's\n",
    "msftCVR = pd.merge(msftAR, msftVR)\n",
    "msftCVR[:5]"
   ]
  },
  {
   "cell_type": "code",
   "execution_count": 46,
   "id": "76eb5fb3",
   "metadata": {
    "collapsed": false
   },
   "outputs": [
    {
     "data": {
      "text/plain": [
       "        Date  Adj Close\n",
       "0 2012-01-03   24.42183\n",
       "1 2012-01-04   24.99657\n",
       "2 2012-01-05   25.25201\n",
       "3 2012-01-06   25.64429\n",
       "4 2012-01-09   25.30675"
      ]
     },
     "execution_count": 46,
     "metadata": {},
     "output_type": "execute_result"
    }
   ],
   "source": [
    "# we will demonstrate join semantics using this DataFrame\n",
    "msftAR0_5 = msftAR[0:5]\n",
    "msftAR0_5"
   ]
  },
  {
   "cell_type": "code",
   "execution_count": 47,
   "id": "a38e3908",
   "metadata": {
    "collapsed": false
   },
   "outputs": [
    {
     "data": {
      "text/plain": [
       "        Date    Volume\n",
       "2 2012-01-05  56081400\n",
       "3 2012-01-06  99455500"
      ]
     },
     "execution_count": 47,
     "metadata": {},
     "output_type": "execute_result"
    }
   ],
   "source": [
    "# and also this one\n",
    "msftVR2_4 = msftVR[2:4]\n",
    "msftVR2_4"
   ]
  },
  {
   "cell_type": "code",
   "execution_count": 48,
   "id": "247f3928",
   "metadata": {
    "collapsed": false
   },
   "outputs": [
    {
     "data": {
      "text/plain": [
       "        Date  Adj Close    Volume\n",
       "0 2012-01-05   25.25201  56081400\n",
       "1 2012-01-06   25.64429  99455500"
      ]
     },
     "execution_count": 48,
     "metadata": {},
     "output_type": "execute_result"
    }
   ],
   "source": [
    "# merge semantics using default inner join\n",
    "pd.merge(msftAR0_5, msftVR2_4)"
   ]
  },
  {
   "cell_type": "code",
   "execution_count": 49,
   "id": "3d88bc5e",
   "metadata": {
    "collapsed": false
   },
   "outputs": [
    {
     "data": {
      "text/plain": [
       "        Date  Adj Close      Volume\n",
       "0 2012-01-03   24.42183         NaN\n",
       "1 2012-01-04   24.99657         NaN\n",
       "2 2012-01-05   25.25201  56081400.0\n",
       "3 2012-01-06   25.64429  99455500.0\n",
       "4 2012-01-09   25.30675         NaN"
      ]
     },
     "execution_count": 49,
     "metadata": {},
     "output_type": "execute_result"
    }
   ],
   "source": [
    "# same joing but using\n",
    "pd.merge(msftAR0_5, msftVR2_4, how='outer')"
   ]
  },
  {
   "cell_type": "markdown",
   "id": "4cdf200a",
   "metadata": {},
   "source": [
    "## Pivoting"
   ]
  },
  {
   "cell_type": "code",
   "execution_count": 69,
   "id": "adba891b",
   "metadata": {},
   "outputs": [
    {
     "data": {
      "text/plain": [
       "           Symbol   Open   High    Low  Close    Volume  Adj Close\n",
       "Date                                                              \n",
       "2012-01-03   MSFT  26.55  26.96  26.39  26.77  64731500   24.42183\n",
       "2012-01-04   MSFT  26.82  27.47  26.78  27.40  80516100   24.99657\n",
       "2012-01-05   MSFT  27.38  27.73  27.29  27.68  56081400   25.25201\n",
       "2012-01-06   MSFT  27.53  28.19  27.53  28.11  99455500   25.64429\n",
       "...           ...    ...    ...    ...    ...       ...        ...\n",
       "2012-12-24   MSFT  27.20  27.25  27.00  27.06  20842400   25.38455\n",
       "2012-12-26   MSFT  27.03  27.20  26.70  26.86  31631100   25.19693\n",
       "2012-12-27   MSFT  26.89  27.09  26.57  26.96  39394000   25.29074\n",
       "2012-12-28   MSFT  26.71  26.90  26.55  26.55  28239900   24.90612\n",
       "\n",
       "[249 rows x 7 columns]"
      ]
     },
     "execution_count": 69,
     "metadata": {},
     "output_type": "execute_result"
    }
   ],
   "source": [
    "msft"
   ]
  },
  {
   "cell_type": "code",
   "execution_count": 50,
   "id": "5508a985",
   "metadata": {
    "collapsed": false
   },
   "outputs": [
    {
     "data": {
      "text/plain": [
       "        Date Symbol       Open       High     Low      Close    Volume  \\\n",
       "0 2012-01-03   MSFT   26.55000   26.96000   26.39   26.77000  64731500   \n",
       "1 2012-01-03   AAPL  409.39996  412.50000  409.00  411.22998  75555200   \n",
       "2 2012-01-04   MSFT   26.82000   27.47000   26.78   27.40000  80516100   \n",
       "3 2012-01-04   AAPL  410.00000  414.68002  409.28  413.44000  65005500   \n",
       "4 2012-01-05   MSFT   27.38000   27.73000   27.29   27.68000  56081400   \n",
       "\n",
       "   Adj Close  \n",
       "0   24.42183  \n",
       "1   55.41362  \n",
       "2   24.99657  \n",
       "3   55.71143  \n",
       "4   25.25201  "
      ]
     },
     "execution_count": 50,
     "metadata": {},
     "output_type": "execute_result"
    }
   ],
   "source": [
    "# need to insert Symbol column before combining\n",
    "msft.insert(0, 'Symbol', 'MSFT')\n",
    "aapl.insert(0, 'Symbol', 'AAPL')\n",
    "\n",
    "# concatenate the MSFT and AAPL data\n",
    "# index will consist of the Date column, which we will sort\n",
    "combined = pd.concat([msft, aapl]).sort_index()\n",
    "\n",
    "# this pushes the index into a column and resets to a \n",
    "# default integer index\n",
    "s4p = combined.reset_index();\n",
    "s4p[:5]"
   ]
  },
  {
   "cell_type": "code",
   "execution_count": 51,
   "id": "2fe38d24",
   "metadata": {
    "collapsed": false
   },
   "outputs": [
    {
     "data": {
      "text/plain": [
       "Symbol          AAPL      MSFT\n",
       "Date                          \n",
       "2012-01-03  55.41362  24.42183\n",
       "2012-01-04  55.71143  24.99657\n",
       "2012-01-05  56.32993  25.25201"
      ]
     },
     "execution_count": 51,
     "metadata": {},
     "output_type": "execute_result"
    }
   ],
   "source": [
    "# pivot Date into the Index, make the columns match the\n",
    "# unique values in the Symbol column, and the values \n",
    "# will be the AdjClose values\n",
    "closes = s4p.pivot(index='Date', columns='Symbol', \n",
    "                   values='Adj Close')\n",
    "closes[:3]"
   ]
  },
  {
   "cell_type": "markdown",
   "id": "25f035bb",
   "metadata": {},
   "source": [
    "## Stacking and Unstacking"
   ]
  },
  {
   "cell_type": "code",
   "execution_count": 52,
   "id": "35d1ab0a",
   "metadata": {
    "collapsed": false
   },
   "outputs": [
    {
     "data": {
      "text/plain": [
       "Date        Symbol\n",
       "2012-01-03  AAPL      55.41362\n",
       "            MSFT      24.42183\n",
       "2012-01-04  AAPL      55.71143\n",
       "            MSFT      24.99657\n",
       "                        ...   \n",
       "2012-12-27  AAPL      70.02116\n",
       "            MSFT      25.29074\n",
       "2012-12-28  AAPL      69.27753\n",
       "            MSFT      24.90612\n",
       "Length: 498, dtype: float64"
      ]
     },
     "execution_count": 52,
     "metadata": {},
     "output_type": "execute_result"
    }
   ],
   "source": [
    "# stack the first level of columns into the index\n",
    "# essentially, moves AAPL and MSFT into the index\n",
    "# leaving a single colum which is the AdjClose values\n",
    "stackedCloses = closes.stack()\n",
    "stackedCloses"
   ]
  },
  {
   "cell_type": "code",
   "execution_count": 53,
   "id": "a3d23839",
   "metadata": {
    "collapsed": false
   },
   "outputs": [
    {
     "data": {
      "text/plain": [
       "55.41362"
      ]
     },
     "execution_count": 53,
     "metadata": {},
     "output_type": "execute_result"
    }
   ],
   "source": [
    "# using .ix we can retrieve close values by\n",
    "# specifying both the date and ticker\n",
    "stackedCloses.loc['2012-01-03', 'AAPL']"
   ]
  },
  {
   "cell_type": "code",
   "execution_count": 54,
   "id": "edf84144",
   "metadata": {
    "collapsed": false
   },
   "outputs": [
    {
     "data": {
      "text/plain": [
       "Symbol\n",
       "AAPL    55.41362\n",
       "MSFT    24.42183\n",
       "dtype: float64"
      ]
     },
     "execution_count": 54,
     "metadata": {},
     "output_type": "execute_result"
    }
   ],
   "source": [
    "# lookup on just the date, which will give us two values\n",
    "# one each for AAPL and MSFT.  \n",
    "stackedCloses.loc['2012-01-03']"
   ]
  },
  {
   "cell_type": "code",
   "execution_count": 55,
   "id": "decd0446",
   "metadata": {
    "collapsed": false
   },
   "outputs": [
    {
     "data": {
      "text/plain": [
       "Date\n",
       "2012-01-03    24.42183\n",
       "2012-01-04    24.99657\n",
       "2012-01-05    25.25201\n",
       "2012-01-06    25.64429\n",
       "                ...   \n",
       "2012-12-24    25.38455\n",
       "2012-12-26    25.19693\n",
       "2012-12-27    25.29074\n",
       "2012-12-28    24.90612\n",
       "Length: 249, dtype: float64"
      ]
     },
     "execution_count": 55,
     "metadata": {},
     "output_type": "execute_result"
    }
   ],
   "source": [
    "# this looks up all values for the MSFT symbol\n",
    "stackedCloses.loc[:, 'MSFT']"
   ]
  },
  {
   "cell_type": "code",
   "execution_count": 56,
   "id": "514cacbd",
   "metadata": {
    "collapsed": false
   },
   "outputs": [
    {
     "data": {
      "text/plain": [
       "Symbol          AAPL      MSFT\n",
       "Date                          \n",
       "2012-01-03  55.41362  24.42183\n",
       "2012-01-04  55.71143  24.99657\n",
       "2012-01-05  56.32993  25.25201"
      ]
     },
     "execution_count": 56,
     "metadata": {},
     "output_type": "execute_result"
    }
   ],
   "source": [
    "# pivots the last level of the index back into a column\n",
    "unstackedCloses = stackedCloses.unstack()\n",
    "unstackedCloses[:3]"
   ]
  },
  {
   "cell_type": "markdown",
   "id": "27766dac",
   "metadata": {},
   "source": [
    "## Melting"
   ]
  },
  {
   "cell_type": "code",
   "execution_count": 58,
   "id": "8befa77d",
   "metadata": {},
   "outputs": [
    {
     "data": {
      "text/plain": [
       "          Date Symbol       Open       High        Low      Close     Volume  \\\n",
       "0   2012-01-03   MSFT   26.55000   26.96000   26.39000   26.77000   64731500   \n",
       "1   2012-01-03   AAPL  409.39996  412.50000  409.00000  411.22998   75555200   \n",
       "2   2012-01-04   MSFT   26.82000   27.47000   26.78000   27.40000   80516100   \n",
       "3   2012-01-04   AAPL  410.00000  414.68002  409.28000  413.44000   65005500   \n",
       "..         ...    ...        ...        ...        ...        ...        ...   \n",
       "494 2012-12-27   AAPL  513.54004  516.25000  504.66003  515.06000  113780100   \n",
       "495 2012-12-27   MSFT   26.89000   27.09000   26.57000   26.96000   39394000   \n",
       "496 2012-12-28   MSFT   26.71000   26.90000   26.55000   26.55000   28239900   \n",
       "497 2012-12-28   AAPL  510.28998  514.47998  508.12000  509.58997   88569600   \n",
       "\n",
       "     Adj Close  \n",
       "0     24.42183  \n",
       "1     55.41362  \n",
       "2     24.99657  \n",
       "3     55.71143  \n",
       "..         ...  \n",
       "494   70.02116  \n",
       "495   25.29074  \n",
       "496   24.90612  \n",
       "497   69.27753  \n",
       "\n",
       "[498 rows x 8 columns]"
      ]
     },
     "execution_count": 58,
     "metadata": {},
     "output_type": "execute_result"
    }
   ],
   "source": [
    "s4p"
   ]
  },
  {
   "cell_type": "code",
   "execution_count": 57,
   "id": "0faf0ff6",
   "metadata": {
    "collapsed": false
   },
   "outputs": [
    {
     "data": {
      "text/plain": [
       "        Date Symbol variable      value\n",
       "0 2012-01-03   MSFT     Open   26.55000\n",
       "1 2012-01-03   AAPL     Open  409.39996\n",
       "2 2012-01-04   MSFT     Open   26.82000\n",
       "3 2012-01-04   AAPL     Open  410.00000\n",
       "4 2012-01-05   MSFT     Open   27.38000"
      ]
     },
     "execution_count": 57,
     "metadata": {},
     "output_type": "execute_result"
    }
   ],
   "source": [
    "# melt making id_vars of Date and Symbol, making the \n",
    "# column names the variable and the for each the value\n",
    "melted = pd.melt(s4p, id_vars=['Date', 'Symbol'])\n",
    "melted[:5]"
   ]
  },
  {
   "cell_type": "code",
   "execution_count": 59,
   "id": "a9cf926b",
   "metadata": {
    "collapsed": false
   },
   "outputs": [
    {
     "data": {
      "text/plain": [
       "           Date Symbol   variable         value\n",
       "0    2012-01-03   MSFT       Open  2.655000e+01\n",
       "498  2012-01-03   MSFT       High  2.696000e+01\n",
       "996  2012-01-03   MSFT        Low  2.639000e+01\n",
       "1494 2012-01-03   MSFT      Close  2.677000e+01\n",
       "1992 2012-01-03   MSFT     Volume  6.473150e+07\n",
       "2490 2012-01-03   MSFT  Adj Close  2.442183e+01"
      ]
     },
     "execution_count": 59,
     "metadata": {},
     "output_type": "execute_result"
    }
   ],
   "source": [
    "# extract the values for the data for MSFT on 2012-01-03\n"
   ]
  },
  {
   "cell_type": "code",
   "execution_count": 60,
   "id": "77ca2f7f",
   "metadata": {},
   "outputs": [
    {
     "data": {
      "text/plain": [
       "           Date Symbol   variable         value\n",
       "0    2012-01-03   MSFT       Open  2.655000e+01\n",
       "498  2012-01-03   MSFT       High  2.696000e+01\n",
       "996  2012-01-03   MSFT        Low  2.639000e+01\n",
       "1494 2012-01-03   MSFT      Close  2.677000e+01\n",
       "1992 2012-01-03   MSFT     Volume  6.473150e+07\n",
       "2490 2012-01-03   MSFT  Adj Close  2.442183e+01"
      ]
     },
     "execution_count": 60,
     "metadata": {},
     "output_type": "execute_result"
    }
   ],
   "source": [
    "melted[(melted.Date=='2012-01-03') & (melted.Symbol=='MSFT')]"
   ]
  },
  {
   "cell_type": "code",
   "execution_count": 65,
   "id": "ae51db86",
   "metadata": {},
   "outputs": [
    {
     "data": {
      "text/plain": [
       "array([[Timestamp('2012-01-03 00:00:00'), 'MSFT', 'Open', 26.55],\n",
       "       [Timestamp('2012-01-03 00:00:00'), 'MSFT', 'High', 26.96],\n",
       "       [Timestamp('2012-01-03 00:00:00'), 'MSFT', 'Low', 26.39],\n",
       "       [Timestamp('2012-01-03 00:00:00'), 'MSFT', 'Close', 26.77],\n",
       "       [Timestamp('2012-01-03 00:00:00'), 'MSFT', 'Volume', 64731500.0],\n",
       "       [Timestamp('2012-01-03 00:00:00'), 'MSFT', 'Adj Close', 24.42183]],\n",
       "      dtype=object)"
      ]
     },
     "execution_count": 65,
     "metadata": {},
     "output_type": "execute_result"
    }
   ],
   "source": [
    "melted[(melted.Date=='2012-01-03') & (melted.Symbol=='MSFT')].values"
   ]
  },
  {
   "cell_type": "markdown",
   "id": "42ad62c6",
   "metadata": {},
   "source": [
    "# Grouping and aggregation"
   ]
  },
  {
   "cell_type": "markdown",
   "id": "376bca95",
   "metadata": {},
   "source": [
    "## Splitting"
   ]
  },
  {
   "cell_type": "code",
   "execution_count": 67,
   "id": "cd3b2dff",
   "metadata": {},
   "outputs": [
    {
     "data": {
      "text/plain": [
       "           Symbol       Open       High        Low      Close     Volume  \\\n",
       "Date                                                                       \n",
       "2012-01-03   MSFT   26.55000   26.96000   26.39000   26.77000   64731500   \n",
       "2012-01-03   AAPL  409.39996  412.50000  409.00000  411.22998   75555200   \n",
       "2012-01-04   MSFT   26.82000   27.47000   26.78000   27.40000   80516100   \n",
       "2012-01-04   AAPL  410.00000  414.68002  409.28000  413.44000   65005500   \n",
       "...           ...        ...        ...        ...        ...        ...   \n",
       "2012-12-27   AAPL  513.54004  516.25000  504.66003  515.06000  113780100   \n",
       "2012-12-27   MSFT   26.89000   27.09000   26.57000   26.96000   39394000   \n",
       "2012-12-28   MSFT   26.71000   26.90000   26.55000   26.55000   28239900   \n",
       "2012-12-28   AAPL  510.28998  514.47998  508.12000  509.58997   88569600   \n",
       "\n",
       "            Adj Close  \n",
       "Date                   \n",
       "2012-01-03   24.42183  \n",
       "2012-01-03   55.41362  \n",
       "2012-01-04   24.99657  \n",
       "2012-01-04   55.71143  \n",
       "...               ...  \n",
       "2012-12-27   70.02116  \n",
       "2012-12-27   25.29074  \n",
       "2012-12-28   24.90612  \n",
       "2012-12-28   69.27753  \n",
       "\n",
       "[498 rows x 7 columns]"
      ]
     },
     "execution_count": 67,
     "metadata": {},
     "output_type": "execute_result"
    }
   ],
   "source": [
    "combined"
   ]
  },
  {
   "cell_type": "code",
   "execution_count": 68,
   "id": "56150e30",
   "metadata": {
    "collapsed": false
   },
   "outputs": [
    {
     "data": {
      "text/plain": [
       "        Date  Year  Month Symbol  Adj Close\n",
       "0 2012-01-03  2012      1   MSFT   24.42183\n",
       "1 2012-01-03  2012      1   AAPL   55.41362\n",
       "2 2012-01-04  2012      1   MSFT   24.99657\n",
       "3 2012-01-04  2012      1   AAPL   55.71143\n",
       "4 2012-01-05  2012      1   MSFT   25.25201"
      ]
     },
     "execution_count": 68,
     "metadata": {},
     "output_type": "execute_result"
    }
   ],
   "source": [
    "# construct a DataFrame to demonstrate splitting\n",
    "# extract from combined the Symbol and AdjClose, and reset the index\n",
    "s4g = combined[['Symbol', 'Adj Close']].reset_index()\n",
    "# now, add two columns, year and month, using the year and month\n",
    "# portions of the data as integers\n",
    "s4g.insert(1, 'Year', pd.DatetimeIndex(s4g['Date']).year)\n",
    "s4g.insert(2, 'Month',pd.DatetimeIndex(s4g['Date']).month)\n",
    "s4g[:5]"
   ]
  },
  {
   "cell_type": "code",
   "execution_count": 70,
   "id": "4cb42a29",
   "metadata": {
    "collapsed": false
   },
   "outputs": [
    {
     "data": {
      "text/plain": [
       "<pandas.core.groupby.generic.DataFrameGroupBy object at 0x00000256997012A0>"
      ]
     },
     "execution_count": 70,
     "metadata": {},
     "output_type": "execute_result"
    }
   ],
   "source": [
    "# group by the Symbol column\n",
    "s4g.groupby('Symbol')"
   ]
  },
  {
   "cell_type": "code",
   "execution_count": 71,
   "id": "c870eb83",
   "metadata": {
    "collapsed": false
   },
   "outputs": [
    {
     "data": {
      "text/plain": [
       "pandas.io.formats.printing.PrettyDict"
      ]
     },
     "execution_count": 71,
     "metadata": {},
     "output_type": "execute_result"
    }
   ],
   "source": [
    "# group again, but save the result this time\n",
    "grouped = s4g.groupby('Symbol')\n",
    "# the groupby object has a property groups, which shows how\n",
    "# all rows will in mapped into the groups.   \n",
    "# the type of this object is a python dict\n",
    "type(grouped.groups)"
   ]
  },
  {
   "cell_type": "code",
   "execution_count": 72,
   "id": "544e0ad6",
   "metadata": {
    "collapsed": false
   },
   "outputs": [
    {
     "data": {
      "text/plain": [
       "{'AAPL': [1, 3, 5, 7, 9, 11, 13, 14, 16, 18, 20, 23, 25, 27, 29, 30, 33, 34, 37, 38, 41, 43, 44, 46, 49, 51, 52, 54, 57, 59, 61, 62, 64, 67, 68, 71, 72, 75, 77, 79, 81, 82, 84, 86, 89, 90, 93, 95, 96, 99, 100, 103, 105, 107, 109, 111, 112, 114, 117, 119, 121, 122, 124, 126, 128, 130, 132, 134, 137, 139, 140, 142, 145, 147, 149, 151, 153, 154, 156, 158, 160, 163, 164, 166, 168, 170, 173, 175, 176, 178, 180, 183, 184, 186, 189, 190, 193, 194, 196, 198, ...], 'MSFT': [0, 2, 4, 6, 8, 10, 12, 15, 17, 19, 21, 22, 24, 26, 28, 31, 32, 35, 36, 39, 40, 42, 45, 47, 48, 50, 53, 55, 56, 58, 60, 63, 65, 66, 69, 70, 73, 74, 76, 78, 80, 83, 85, 87, 88, 91, 92, 94, 97, 98, 101, 102, 104, 106, 108, 110, 113, 115, 116, 118, 120, 123, 125, 127, 129, 131, 133, 135, 136, 138, 141, 143, 144, 146, 148, 150, 152, 155, 157, 159, 161, 162, 165, 167, 169, 171, 172, 174, 177, 179, 181, 182, 185, 187, 188, 191, 192, 195, 197, 199, ...]}"
      ]
     },
     "execution_count": 72,
     "metadata": {},
     "output_type": "execute_result"
    }
   ],
   "source": [
    "# show the mappings of rows to groups\n",
    "grouped.groups"
   ]
  },
  {
   "cell_type": "code",
   "execution_count": 73,
   "id": "21f7a7d7",
   "metadata": {
    "collapsed": false
   },
   "outputs": [
    {
     "data": {
      "text/plain": [
       "(2, 2)"
      ]
     },
     "execution_count": 73,
     "metadata": {},
     "output_type": "execute_result"
    }
   ],
   "source": [
    "# these report the number of groups that resulted from\n",
    "# the grouping\n",
    "len(grouped), grouped.ngroups"
   ]
  },
  {
   "cell_type": "code",
   "execution_count": 75,
   "id": "0701dc98",
   "metadata": {
    "collapsed": false
   },
   "outputs": [],
   "source": [
    "# this function will print the contents of a group\n",
    "def print_groups (groupobject):\n",
    "    for name, group in groupobject:\n",
    "        print(name)\n",
    "        print(group.head())"
   ]
  },
  {
   "cell_type": "code",
   "execution_count": 76,
   "id": "eb9d3d9e",
   "metadata": {
    "collapsed": false
   },
   "outputs": [
    {
     "name": "stdout",
     "output_type": "stream",
     "text": [
      "AAPL\n",
      "        Date  Year  Month Symbol  Adj Close\n",
      "1 2012-01-03  2012      1   AAPL   55.41362\n",
      "3 2012-01-04  2012      1   AAPL   55.71143\n",
      "5 2012-01-05  2012      1   AAPL   56.32993\n",
      "7 2012-01-06  2012      1   AAPL   56.91880\n",
      "9 2012-01-09  2012      1   AAPL   56.82851\n",
      "MSFT\n",
      "        Date  Year  Month Symbol  Adj Close\n",
      "0 2012-01-03  2012      1   MSFT   24.42183\n",
      "2 2012-01-04  2012      1   MSFT   24.99657\n",
      "4 2012-01-05  2012      1   MSFT   25.25201\n",
      "6 2012-01-06  2012      1   MSFT   25.64429\n",
      "8 2012-01-09  2012      1   MSFT   25.30675\n"
     ]
    }
   ],
   "source": [
    "# examine our resulting groups\n",
    "print_groups(grouped)"
   ]
  },
  {
   "cell_type": "code",
   "execution_count": 77,
   "id": "8879ed2f",
   "metadata": {
    "collapsed": false
   },
   "outputs": [
    {
     "data": {
      "text/plain": [
       "Symbol\n",
       "AAPL    249\n",
       "MSFT    249\n",
       "dtype: int64"
      ]
     },
     "execution_count": 77,
     "metadata": {},
     "output_type": "execute_result"
    }
   ],
   "source": [
    "# .size will tell us the count of items in each group\n",
    "grouped.size()"
   ]
  },
  {
   "cell_type": "code",
   "execution_count": 78,
   "id": "09b016ca",
   "metadata": {
    "collapsed": false
   },
   "outputs": [
    {
     "data": {
      "text/plain": [
       "          Date  Year  Month Symbol  Adj Close\n",
       "0   2012-01-03  2012      1   MSFT   24.42183\n",
       "2   2012-01-04  2012      1   MSFT   24.99657\n",
       "4   2012-01-05  2012      1   MSFT   25.25201\n",
       "6   2012-01-06  2012      1   MSFT   25.64429\n",
       "..         ...   ...    ...    ...        ...\n",
       "491 2012-12-24  2012     12   MSFT   25.38455\n",
       "493 2012-12-26  2012     12   MSFT   25.19693\n",
       "495 2012-12-27  2012     12   MSFT   25.29074\n",
       "496 2012-12-28  2012     12   MSFT   24.90612\n",
       "\n",
       "[249 rows x 5 columns]"
      ]
     },
     "execution_count": 78,
     "metadata": {},
     "output_type": "execute_result"
    }
   ],
   "source": [
    "# a specific group can be retrieved using .get_group()\n",
    "# which returns a DataFrame representing the specified group\n",
    "grouped.get_group('MSFT')"
   ]
  },
  {
   "cell_type": "code",
   "execution_count": 79,
   "id": "67a08b05",
   "metadata": {
    "collapsed": false
   },
   "outputs": [
    {
     "name": "stdout",
     "output_type": "stream",
     "text": [
      "('AAPL', 2012, 1)\n",
      "        Date  Year  Month Symbol  Adj Close\n",
      "1 2012-01-03  2012      1   AAPL   55.41362\n",
      "3 2012-01-04  2012      1   AAPL   55.71143\n",
      "5 2012-01-05  2012      1   AAPL   56.32993\n",
      "7 2012-01-06  2012      1   AAPL   56.91880\n",
      "9 2012-01-09  2012      1   AAPL   56.82851\n",
      "('AAPL', 2012, 2)\n",
      "         Date  Year  Month Symbol  Adj Close\n",
      "41 2012-02-01  2012      2   AAPL   61.47202\n",
      "43 2012-02-02  2012      2   AAPL   61.32784\n",
      "44 2012-02-03  2012      2   AAPL   61.94231\n",
      "46 2012-02-06  2012      2   AAPL   62.52039\n",
      "49 2012-02-07  2012      2   AAPL   63.17527\n",
      "('AAPL', 2012, 3)\n",
      "         Date  Year  Month Symbol  Adj Close\n",
      "81 2012-03-01  2012      3   AAPL   73.36784\n",
      "82 2012-03-02  2012      3   AAPL   73.46351\n",
      "84 2012-03-05  2012      3   AAPL   71.84380\n",
      "86 2012-03-06  2012      3   AAPL   71.45303\n",
      "89 2012-03-07  2012      3   AAPL   71.51097\n",
      "('AAPL', 2012, 4)\n",
      "          Date  Year  Month Symbol  Adj Close\n",
      "124 2012-04-02  2012      4   AAPL   83.36096\n",
      "126 2012-04-03  2012      4   AAPL   84.80146\n",
      "128 2012-04-04  2012      4   AAPL   84.12635\n",
      "130 2012-04-05  2012      4   AAPL   85.38896\n",
      "132 2012-04-09  2012      4   AAPL   85.73258\n",
      "('AAPL', 2012, 5)\n",
      "          Date  Year  Month Symbol  Adj Close\n",
      "164 2012-05-01  2012      5   AAPL   78.44256\n",
      "166 2012-05-02  2012      5   AAPL   78.96136\n",
      "168 2012-05-03  2012      5   AAPL   78.40079\n",
      "170 2012-05-04  2012      5   AAPL   76.16796\n",
      "173 2012-05-07  2012      5   AAPL   76.73796\n",
      "('AAPL', 2012, 6)\n",
      "          Date  Year  Month Symbol  Adj Close\n",
      "208 2012-06-01  2012      6   AAPL   75.59393\n",
      "211 2012-06-04  2012      6   AAPL   76.03860\n",
      "213 2012-06-05  2012      6   AAPL   75.84187\n",
      "215 2012-06-06  2012      6   AAPL   77.00476\n",
      "217 2012-06-07  2012      6   AAPL   77.03981\n",
      "('AAPL', 2012, 7)\n",
      "          Date  Year  Month Symbol  Adj Close\n",
      "250 2012-07-02  2012      7   AAPL   79.84262\n",
      "252 2012-07-03  2012      7   AAPL   80.77105\n",
      "254 2012-07-05  2012      7   AAPL   82.18999\n",
      "257 2012-07-06  2012      7   AAPL   81.64290\n",
      "259 2012-07-09  2012      7   AAPL   82.72224\n",
      "('AAPL', 2012, 8)\n",
      "          Date  Year  Month Symbol  Adj Close\n",
      "293 2012-08-01  2012      8   AAPL   81.76821\n",
      "295 2012-08-02  2012      8   AAPL   81.90026\n",
      "296 2012-08-03  2012      8   AAPL   82.96614\n",
      "298 2012-08-06  2012      8   AAPL   83.88918\n",
      "301 2012-08-07  2012      8   AAPL   83.66820\n",
      "('AAPL', 2012, 9)\n",
      "          Date  Year  Month Symbol  Adj Close\n",
      "338 2012-09-04  2012      9   AAPL   91.34335\n",
      "340 2012-09-05  2012      9   AAPL   90.70187\n",
      "343 2012-09-06  2012      9   AAPL   91.51927\n",
      "344 2012-09-07  2012      9   AAPL   92.08360\n",
      "347 2012-09-10  2012      9   AAPL   89.68826\n",
      "('AAPL', 2012, 10)\n",
      "          Date  Year  Month Symbol  Adj Close\n",
      "377 2012-10-01  2012     10   AAPL   89.23491\n",
      "379 2012-10-02  2012     10   AAPL   89.49474\n",
      "380 2012-10-03  2012     10   AAPL   90.86699\n",
      "382 2012-10-04  2012     10   AAPL   90.23770\n",
      "385 2012-10-05  2012     10   AAPL   88.31467\n",
      "('AAPL', 2012, 11)\n",
      "          Date  Year  Month Symbol  Adj Close\n",
      "419 2012-11-01  2012     11   AAPL   80.72945\n",
      "420 2012-11-02  2012     11   AAPL   78.05805\n",
      "423 2012-11-05  2012     11   AAPL   79.11633\n",
      "425 2012-11-06  2012     11   AAPL   78.87679\n",
      "427 2012-11-07  2012     11   AAPL   75.85876\n",
      "('AAPL', 2012, 12)\n",
      "          Date  Year  Month Symbol  Adj Close\n",
      "460 2012-12-03  2012     12   AAPL   79.69112\n",
      "463 2012-12-04  2012     12   AAPL   78.28542\n",
      "464 2012-12-05  2012     12   AAPL   73.24720\n",
      "466 2012-12-06  2012     12   AAPL   74.39595\n",
      "468 2012-12-07  2012     12   AAPL   72.49405\n",
      "('MSFT', 2012, 1)\n",
      "        Date  Year  Month Symbol  Adj Close\n",
      "0 2012-01-03  2012      1   MSFT   24.42183\n",
      "2 2012-01-04  2012      1   MSFT   24.99657\n",
      "4 2012-01-05  2012      1   MSFT   25.25201\n",
      "6 2012-01-06  2012      1   MSFT   25.64429\n",
      "8 2012-01-09  2012      1   MSFT   25.30675\n",
      "('MSFT', 2012, 2)\n",
      "         Date  Year  Month Symbol  Adj Close\n",
      "40 2012-02-01  2012      2   MSFT   27.26815\n",
      "42 2012-02-02  2012      2   MSFT   27.32289\n",
      "45 2012-02-03  2012      2   MSFT   27.58745\n",
      "47 2012-02-06  2012      2   MSFT   27.55096\n",
      "48 2012-02-07  2012      2   MSFT   27.68781\n",
      "('MSFT', 2012, 3)\n",
      "         Date  Year  Month Symbol  Adj Close\n",
      "80 2012-03-01  2012      3   MSFT   29.65156\n",
      "83 2012-03-02  2012      3   MSFT   29.45872\n",
      "85 2012-03-05  2012      3   MSFT   29.20160\n",
      "87 2012-03-06  2012      3   MSFT   28.98121\n",
      "88 2012-03-07  2012      3   MSFT   29.23833\n",
      "('MSFT', 2012, 4)\n",
      "          Date  Year  Month Symbol  Adj Close\n",
      "125 2012-04-02  2012      4   MSFT   29.65156\n",
      "127 2012-04-03  2012      4   MSFT   29.33016\n",
      "129 2012-04-04  2012      4   MSFT   28.65981\n",
      "131 2012-04-05  2012      4   MSFT   28.94448\n",
      "133 2012-04-09  2012      4   MSFT   28.55880\n",
      "('MSFT', 2012, 5)\n",
      "          Date  Year  Month Symbol  Adj Close\n",
      "165 2012-05-01  2012      5   MSFT   29.39444\n",
      "167 2012-05-02  2012      5   MSFT   29.20160\n",
      "169 2012-05-03  2012      5   MSFT   29.16487\n",
      "171 2012-05-04  2012      5   MSFT   28.44860\n",
      "172 2012-05-07  2012      5   MSFT   28.14557\n",
      "('MSFT', 2012, 6)\n",
      "          Date  Year  Month Symbol  Adj Close\n",
      "209 2012-06-01  2012      6   MSFT   26.29676\n",
      "210 2012-06-04  2012      6   MSFT   26.38919\n",
      "212 2012-06-05  2012      6   MSFT   26.35222\n",
      "214 2012-06-06  2012      6   MSFT   27.12864\n",
      "216 2012-06-07  2012      6   MSFT   27.01772\n",
      "('MSFT', 2012, 7)\n",
      "          Date  Year  Month Symbol  Adj Close\n",
      "251 2012-07-02  2012      7   MSFT   28.24706\n",
      "253 2012-07-03  2012      7   MSFT   28.43192\n",
      "255 2012-07-05  2012      7   MSFT   28.37647\n",
      "256 2012-07-06  2012      7   MSFT   27.90507\n",
      "258 2012-07-09  2012      7   MSFT   27.72945\n",
      "('MSFT', 2012, 8)\n",
      "          Date  Year  Month Symbol  Adj Close\n",
      "292 2012-08-01  2012      8   MSFT   27.18410\n",
      "294 2012-08-02  2012      8   MSFT   26.98075\n",
      "297 2012-08-03  2012      8   MSFT   27.49837\n",
      "299 2012-08-06  2012      8   MSFT   27.68323\n",
      "300 2012-08-07  2012      8   MSFT   27.96977\n",
      "('MSFT', 2012, 9)\n",
      "          Date  Year  Month Symbol  Adj Close\n",
      "339 2012-09-04  2012      9   MSFT   28.27601\n",
      "341 2012-09-05  2012      9   MSFT   28.27601\n",
      "342 2012-09-06  2012      9   MSFT   29.16924\n",
      "345 2012-09-07  2012      9   MSFT   28.79706\n",
      "346 2012-09-10  2012      9   MSFT   28.58306\n",
      "('MSFT', 2012, 10)\n",
      "          Date  Year  Month Symbol  Adj Close\n",
      "376 2012-10-01  2012     10   MSFT   27.43862\n",
      "378 2012-10-02  2012     10   MSFT   27.59680\n",
      "381 2012-10-03  2012     10   MSFT   27.78288\n",
      "383 2012-10-04  2012     10   MSFT   27.94106\n",
      "384 2012-10-05  2012     10   MSFT   27.77358\n",
      "('MSFT', 2012, 11)\n",
      "          Date  Year  Month Symbol  Adj Close\n",
      "418 2012-11-01  2012     11   MSFT   27.46654\n",
      "421 2012-11-02  2012     11   MSFT   27.44793\n",
      "422 2012-11-05  2012     11   MSFT   27.56888\n",
      "424 2012-11-06  2012     11   MSFT   27.78288\n",
      "426 2012-11-07  2012     11   MSFT   27.05714\n",
      "('MSFT', 2012, 12)\n",
      "          Date  Year  Month Symbol  Adj Close\n",
      "461 2012-12-03  2012     12   MSFT   24.79355\n",
      "462 2012-12-04  2012     12   MSFT   24.73727\n",
      "465 2012-12-05  2012     12   MSFT   25.01869\n",
      "467 2012-12-06  2012     12   MSFT   25.07498\n",
      "469 2012-12-07  2012     12   MSFT   24.82170\n"
     ]
    }
   ],
   "source": [
    "# group by three different fields and print the result\n",
    "mcg = s4g.groupby(['Symbol', 'Year', 'Month'])\n",
    "print_groups(mcg)"
   ]
  },
  {
   "cell_type": "code",
   "execution_count": 80,
   "id": "db53a9df",
   "metadata": {
    "collapsed": false
   },
   "outputs": [
    {
     "data": {
      "text/plain": [
       "                        Date  Adj Close\n",
       "Symbol Year Month                      \n",
       "MSFT   2012 1     2012-01-03   24.42183\n",
       "AAPL   2012 1     2012-01-03   55.41362\n",
       "MSFT   2012 1     2012-01-04   24.99657\n",
       "AAPL   2012 1     2012-01-04   55.71143\n",
       "...                      ...        ...\n",
       "            12    2012-12-27   70.02116\n",
       "MSFT   2012 12    2012-12-27   25.29074\n",
       "            12    2012-12-28   24.90612\n",
       "AAPL   2012 12    2012-12-28   69.27753\n",
       "\n",
       "[498 rows x 2 columns]"
      ]
     },
     "execution_count": 80,
     "metadata": {},
     "output_type": "execute_result"
    }
   ],
   "source": [
    "# set the index of the data to be the following three fields\n",
    "# we are creating a multiindex\n",
    "mi = s4g.set_index(['Symbol', 'Year', 'Month'])\n",
    "mi"
   ]
  },
  {
   "cell_type": "code",
   "execution_count": 81,
   "id": "56f6d40d",
   "metadata": {
    "collapsed": false
   },
   "outputs": [
    {
     "name": "stdout",
     "output_type": "stream",
     "text": [
      "AAPL\n",
      "                        Date  Adj Close\n",
      "Symbol Year Month                      \n",
      "AAPL   2012 1     2012-01-03   55.41362\n",
      "            1     2012-01-04   55.71143\n",
      "            1     2012-01-05   56.32993\n",
      "            1     2012-01-06   56.91880\n",
      "            1     2012-01-09   56.82851\n",
      "MSFT\n",
      "                        Date  Adj Close\n",
      "Symbol Year Month                      \n",
      "MSFT   2012 1     2012-01-03   24.42183\n",
      "            1     2012-01-04   24.99657\n",
      "            1     2012-01-05   25.25201\n",
      "            1     2012-01-06   25.64429\n",
      "            1     2012-01-09   25.30675\n"
     ]
    }
   ],
   "source": [
    "# now we can group based upon values in the actual index\n",
    "# the following groups by level 0 of the index (Month)\n",
    "mig_l1 = mi.groupby(level=0)\n",
    "print_groups(mig_l1)"
   ]
  },
  {
   "cell_type": "code",
   "execution_count": 82,
   "id": "41c4afb1",
   "metadata": {
    "collapsed": false
   },
   "outputs": [
    {
     "name": "stdout",
     "output_type": "stream",
     "text": [
      "('AAPL', 2012, 1)\n",
      "                        Date  Adj Close\n",
      "Symbol Year Month                      \n",
      "AAPL   2012 1     2012-01-03   55.41362\n",
      "            1     2012-01-04   55.71143\n",
      "            1     2012-01-05   56.32993\n",
      "            1     2012-01-06   56.91880\n",
      "            1     2012-01-09   56.82851\n",
      "('AAPL', 2012, 2)\n",
      "                        Date  Adj Close\n",
      "Symbol Year Month                      \n",
      "AAPL   2012 2     2012-02-01   61.47202\n",
      "            2     2012-02-02   61.32784\n",
      "            2     2012-02-03   61.94231\n",
      "            2     2012-02-06   62.52039\n",
      "            2     2012-02-07   63.17527\n",
      "('AAPL', 2012, 3)\n",
      "                        Date  Adj Close\n",
      "Symbol Year Month                      \n",
      "AAPL   2012 3     2012-03-01   73.36784\n",
      "            3     2012-03-02   73.46351\n",
      "            3     2012-03-05   71.84380\n",
      "            3     2012-03-06   71.45303\n",
      "            3     2012-03-07   71.51097\n",
      "('AAPL', 2012, 4)\n",
      "                        Date  Adj Close\n",
      "Symbol Year Month                      \n",
      "AAPL   2012 4     2012-04-02   83.36096\n",
      "            4     2012-04-03   84.80146\n",
      "            4     2012-04-04   84.12635\n",
      "            4     2012-04-05   85.38896\n",
      "            4     2012-04-09   85.73258\n",
      "('AAPL', 2012, 5)\n",
      "                        Date  Adj Close\n",
      "Symbol Year Month                      \n",
      "AAPL   2012 5     2012-05-01   78.44256\n",
      "            5     2012-05-02   78.96136\n",
      "            5     2012-05-03   78.40079\n",
      "            5     2012-05-04   76.16796\n",
      "            5     2012-05-07   76.73796\n",
      "('AAPL', 2012, 6)\n",
      "                        Date  Adj Close\n",
      "Symbol Year Month                      \n",
      "AAPL   2012 6     2012-06-01   75.59393\n",
      "            6     2012-06-04   76.03860\n",
      "            6     2012-06-05   75.84187\n",
      "            6     2012-06-06   77.00476\n",
      "            6     2012-06-07   77.03981\n",
      "('AAPL', 2012, 7)\n",
      "                        Date  Adj Close\n",
      "Symbol Year Month                      \n",
      "AAPL   2012 7     2012-07-02   79.84262\n",
      "            7     2012-07-03   80.77105\n",
      "            7     2012-07-05   82.18999\n",
      "            7     2012-07-06   81.64290\n",
      "            7     2012-07-09   82.72224\n",
      "('AAPL', 2012, 8)\n",
      "                        Date  Adj Close\n",
      "Symbol Year Month                      \n",
      "AAPL   2012 8     2012-08-01   81.76821\n",
      "            8     2012-08-02   81.90026\n",
      "            8     2012-08-03   82.96614\n",
      "            8     2012-08-06   83.88918\n",
      "            8     2012-08-07   83.66820\n",
      "('AAPL', 2012, 9)\n",
      "                        Date  Adj Close\n",
      "Symbol Year Month                      \n",
      "AAPL   2012 9     2012-09-04   91.34335\n",
      "            9     2012-09-05   90.70187\n",
      "            9     2012-09-06   91.51927\n",
      "            9     2012-09-07   92.08360\n",
      "            9     2012-09-10   89.68826\n",
      "('AAPL', 2012, 10)\n",
      "                        Date  Adj Close\n",
      "Symbol Year Month                      \n",
      "AAPL   2012 10    2012-10-01   89.23491\n",
      "            10    2012-10-02   89.49474\n",
      "            10    2012-10-03   90.86699\n",
      "            10    2012-10-04   90.23770\n",
      "            10    2012-10-05   88.31467\n",
      "('AAPL', 2012, 11)\n",
      "                        Date  Adj Close\n",
      "Symbol Year Month                      \n",
      "AAPL   2012 11    2012-11-01   80.72945\n",
      "            11    2012-11-02   78.05805\n",
      "            11    2012-11-05   79.11633\n",
      "            11    2012-11-06   78.87679\n",
      "            11    2012-11-07   75.85876\n",
      "('AAPL', 2012, 12)\n",
      "                        Date  Adj Close\n",
      "Symbol Year Month                      \n",
      "AAPL   2012 12    2012-12-03   79.69112\n",
      "            12    2012-12-04   78.28542\n",
      "            12    2012-12-05   73.24720\n",
      "            12    2012-12-06   74.39595\n",
      "            12    2012-12-07   72.49405\n",
      "('MSFT', 2012, 1)\n",
      "                        Date  Adj Close\n",
      "Symbol Year Month                      \n",
      "MSFT   2012 1     2012-01-03   24.42183\n",
      "            1     2012-01-04   24.99657\n",
      "            1     2012-01-05   25.25201\n",
      "            1     2012-01-06   25.64429\n",
      "            1     2012-01-09   25.30675\n",
      "('MSFT', 2012, 2)\n",
      "                        Date  Adj Close\n",
      "Symbol Year Month                      \n",
      "MSFT   2012 2     2012-02-01   27.26815\n",
      "            2     2012-02-02   27.32289\n",
      "            2     2012-02-03   27.58745\n",
      "            2     2012-02-06   27.55096\n",
      "            2     2012-02-07   27.68781\n",
      "('MSFT', 2012, 3)\n",
      "                        Date  Adj Close\n",
      "Symbol Year Month                      \n",
      "MSFT   2012 3     2012-03-01   29.65156\n",
      "            3     2012-03-02   29.45872\n",
      "            3     2012-03-05   29.20160\n",
      "            3     2012-03-06   28.98121\n",
      "            3     2012-03-07   29.23833\n",
      "('MSFT', 2012, 4)\n",
      "                        Date  Adj Close\n",
      "Symbol Year Month                      \n",
      "MSFT   2012 4     2012-04-02   29.65156\n",
      "            4     2012-04-03   29.33016\n",
      "            4     2012-04-04   28.65981\n",
      "            4     2012-04-05   28.94448\n",
      "            4     2012-04-09   28.55880\n",
      "('MSFT', 2012, 5)\n",
      "                        Date  Adj Close\n",
      "Symbol Year Month                      \n",
      "MSFT   2012 5     2012-05-01   29.39444\n",
      "            5     2012-05-02   29.20160\n",
      "            5     2012-05-03   29.16487\n",
      "            5     2012-05-04   28.44860\n",
      "            5     2012-05-07   28.14557\n",
      "('MSFT', 2012, 6)\n",
      "                        Date  Adj Close\n",
      "Symbol Year Month                      \n",
      "MSFT   2012 6     2012-06-01   26.29676\n",
      "            6     2012-06-04   26.38919\n",
      "            6     2012-06-05   26.35222\n",
      "            6     2012-06-06   27.12864\n",
      "            6     2012-06-07   27.01772\n",
      "('MSFT', 2012, 7)\n",
      "                        Date  Adj Close\n",
      "Symbol Year Month                      \n",
      "MSFT   2012 7     2012-07-02   28.24706\n",
      "            7     2012-07-03   28.43192\n",
      "            7     2012-07-05   28.37647\n",
      "            7     2012-07-06   27.90507\n",
      "            7     2012-07-09   27.72945\n",
      "('MSFT', 2012, 8)\n",
      "                        Date  Adj Close\n",
      "Symbol Year Month                      \n",
      "MSFT   2012 8     2012-08-01   27.18410\n",
      "            8     2012-08-02   26.98075\n",
      "            8     2012-08-03   27.49837\n",
      "            8     2012-08-06   27.68323\n",
      "            8     2012-08-07   27.96977\n",
      "('MSFT', 2012, 9)\n",
      "                        Date  Adj Close\n",
      "Symbol Year Month                      \n",
      "MSFT   2012 9     2012-09-04   28.27601\n",
      "            9     2012-09-05   28.27601\n",
      "            9     2012-09-06   29.16924\n",
      "            9     2012-09-07   28.79706\n",
      "            9     2012-09-10   28.58306\n",
      "('MSFT', 2012, 10)\n",
      "                        Date  Adj Close\n",
      "Symbol Year Month                      \n",
      "MSFT   2012 10    2012-10-01   27.43862\n",
      "            10    2012-10-02   27.59680\n",
      "            10    2012-10-03   27.78288\n",
      "            10    2012-10-04   27.94106\n",
      "            10    2012-10-05   27.77358\n",
      "('MSFT', 2012, 11)\n",
      "                        Date  Adj Close\n",
      "Symbol Year Month                      \n",
      "MSFT   2012 11    2012-11-01   27.46654\n",
      "            11    2012-11-02   27.44793\n",
      "            11    2012-11-05   27.56888\n",
      "            11    2012-11-06   27.78288\n",
      "            11    2012-11-07   27.05714\n",
      "('MSFT', 2012, 12)\n",
      "                        Date  Adj Close\n",
      "Symbol Year Month                      \n",
      "MSFT   2012 12    2012-12-03   24.79355\n",
      "            12    2012-12-04   24.73727\n",
      "            12    2012-12-05   25.01869\n",
      "            12    2012-12-06   25.07498\n",
      "            12    2012-12-07   24.82170\n"
     ]
    }
   ],
   "source": [
    "# group by three levels in the index using their names\n",
    "mig_l12 = mi.groupby(level=['Symbol', 'Year', 'Month'])\n",
    "print_groups(mig_l12)"
   ]
  },
  {
   "cell_type": "markdown",
   "id": "346c9a86",
   "metadata": {},
   "source": [
    "# Aggregation"
   ]
  },
  {
   "cell_type": "code",
   "execution_count": 83,
   "id": "ed0b4316",
   "metadata": {
    "collapsed": false
   },
   "outputs": [
    {
     "name": "stderr",
     "output_type": "stream",
     "text": [
      "C:\\Users\\fengzhou4\\AppData\\Local\\Temp\\ipykernel_28652\\1137318981.py:2: FutureWarning: The provided callable <function mean at 0x000002569398B490> is currently using DataFrameGroupBy.mean. In a future version of pandas, the provided callable will be used directly. To keep current behavior pass the string \"mean\" instead.\n",
      "  mig_l12.agg(np.mean)\n"
     ]
    },
    {
     "data": {
      "text/plain": [
       "                                           Date  Adj Close\n",
       "Symbol Year Month                                         \n",
       "AAPL   2012 1     2012-01-16 15:36:00.000000000  57.751284\n",
       "            2     2012-02-14 18:00:00.000000000  67.048153\n",
       "            3     2012-03-16 01:05:27.272727296  77.819703\n",
       "            4     2012-04-15 16:48:00.000000000  81.659466\n",
       "...                                         ...        ...\n",
       "MSFT   2012 9     2012-09-16 03:47:22.105263104  28.640845\n",
       "            10    2012-10-14 08:00:00.000000000  27.044293\n",
       "            11    2012-11-15 18:17:08.571428608  26.004902\n",
       "            12    2012-12-15 00:00:00.000000000  25.309006\n",
       "\n",
       "[24 rows x 2 columns]"
      ]
     },
     "execution_count": 83,
     "metadata": {},
     "output_type": "execute_result"
    }
   ],
   "source": [
    "# this will apply the mean function to each group\n",
    "mig_l12.agg(np.mean)"
   ]
  },
  {
   "cell_type": "code",
   "execution_count": 84,
   "id": "b3e10a20",
   "metadata": {},
   "outputs": [
    {
     "data": {
      "text/plain": [
       "          Date  Year  Month Symbol  Adj Close\n",
       "0   2012-01-03  2012      1   MSFT   24.42183\n",
       "1   2012-01-03  2012      1   AAPL   55.41362\n",
       "2   2012-01-04  2012      1   MSFT   24.99657\n",
       "3   2012-01-04  2012      1   AAPL   55.71143\n",
       "..         ...   ...    ...    ...        ...\n",
       "494 2012-12-27  2012     12   AAPL   70.02116\n",
       "495 2012-12-27  2012     12   MSFT   25.29074\n",
       "496 2012-12-28  2012     12   MSFT   24.90612\n",
       "497 2012-12-28  2012     12   AAPL   69.27753\n",
       "\n",
       "[498 rows x 5 columns]"
      ]
     },
     "execution_count": 84,
     "metadata": {},
     "output_type": "execute_result"
    }
   ],
   "source": [
    "s4g"
   ]
  },
  {
   "cell_type": "code",
   "execution_count": 85,
   "id": "aaa52471",
   "metadata": {
    "collapsed": false
   },
   "outputs": [
    {
     "name": "stderr",
     "output_type": "stream",
     "text": [
      "C:\\Users\\fengzhou4\\AppData\\Local\\Temp\\ipykernel_28652\\1393946362.py:5: FutureWarning: The provided callable <function mean at 0x000002569398B490> is currently using DataFrameGroupBy.mean. In a future version of pandas, the provided callable will be used directly. To keep current behavior pass the string \"mean\" instead.\n",
      "  as_index=False).agg(np.mean)[:5]\n"
     ]
    },
    {
     "data": {
      "text/plain": [
       "  Symbol  Year  Month                          Date  Adj Close\n",
       "0   AAPL  2012      1 2012-01-16 15:36:00.000000000  57.751284\n",
       "1   AAPL  2012      2 2012-02-14 18:00:00.000000000  67.048153\n",
       "2   AAPL  2012      3 2012-03-16 01:05:27.272727296  77.819703\n",
       "3   AAPL  2012      4 2012-04-15 16:48:00.000000000  81.659466\n",
       "4   AAPL  2012      5 2012-05-15 10:54:32.727272704  76.090236"
      ]
     },
     "execution_count": 85,
     "metadata": {},
     "output_type": "execute_result"
    }
   ],
   "source": [
    "# example of groupby that also ignores the index\n",
    "# resulting in a default integer index\n",
    "# this also has the mean function applied\n",
    "s4g.groupby(['Symbol', 'Year', 'Month'], \n",
    "            as_index=False).agg(np.mean)[:5]"
   ]
  },
  {
   "cell_type": "code",
   "execution_count": 86,
   "id": "04ec1da8",
   "metadata": {
    "collapsed": false
   },
   "outputs": [
    {
     "name": "stderr",
     "output_type": "stream",
     "text": [
      "C:\\Users\\fengzhou4\\AppData\\Local\\Temp\\ipykernel_28652\\1639771455.py:2: FutureWarning: The provided callable <function mean at 0x000002569398B490> is currently using SeriesGroupBy.mean. In a future version of pandas, the provided callable will be used directly. To keep current behavior pass the string \"mean\" instead.\n",
      "  mig_l12.agg([np.mean, np.std])\n",
      "C:\\Users\\fengzhou4\\AppData\\Local\\Temp\\ipykernel_28652\\1639771455.py:2: FutureWarning: The provided callable <function std at 0x000002569398B5B0> is currently using SeriesGroupBy.std. In a future version of pandas, the provided callable will be used directly. To keep current behavior pass the string \"std\" instead.\n",
      "  mig_l12.agg([np.mean, np.std])\n"
     ]
    },
    {
     "data": {
      "text/plain": [
       "                                           Date                            \\\n",
       "                                           mean                       std   \n",
       "Symbol Year Month                                                           \n",
       "AAPL   2012 1     2012-01-16 15:36:00.000000000 8 days 23:07:28.349947786   \n",
       "            2     2012-02-14 18:00:00.000000000 8 days 22:04:45.043185279   \n",
       "            3     2012-03-16 01:05:27.272727296 9 days 01:53:36.873001463   \n",
       "            4     2012-04-15 16:48:00.000000000 8 days 14:19:24.991947757   \n",
       "...                                         ...                       ...   \n",
       "MSFT   2012 9     2012-09-16 03:47:22.105263104 7 days 19:39:41.433791811   \n",
       "            10    2012-10-14 08:00:00.000000000 8 days 19:44:08.463429077   \n",
       "            11    2012-11-15 18:17:08.571428608 9 days 04:51:56.983306785   \n",
       "            12    2012-12-15 00:00:00.000000000    8 days 01:29:39.069453   \n",
       "\n",
       "                   Adj Close            \n",
       "                        mean       std  \n",
       "Symbol Year Month                       \n",
       "AAPL   2012 1      57.751284  1.797870  \n",
       "            2      67.048153  3.569969  \n",
       "            3      77.819703  4.162433  \n",
       "            4      81.659466  3.062644  \n",
       "...                      ...       ...  \n",
       "MSFT   2012 9      28.640845  0.430641  \n",
       "            10     27.044293  0.666642  \n",
       "            11     26.004902  1.001457  \n",
       "            12     25.309006  0.364051  \n",
       "\n",
       "[24 rows x 4 columns]"
      ]
     },
     "execution_count": 86,
     "metadata": {},
     "output_type": "execute_result"
    }
   ],
   "source": [
    "# apply multiple functions to each group in one call\n",
    "mig_l12.agg([np.mean, np.std])"
   ]
  }
 ],
 "metadata": {
  "kernelspec": {
   "display_name": "finrl",
   "language": "python",
   "name": "python3"
  },
  "language_info": {
   "codemirror_mode": {
    "name": "ipython",
    "version": 3
   },
   "file_extension": ".py",
   "mimetype": "text/x-python",
   "name": "python",
   "nbconvert_exporter": "python",
   "pygments_lexer": "ipython3",
   "version": "3.10.14"
  }
 },
 "nbformat": 4,
 "nbformat_minor": 5
}
